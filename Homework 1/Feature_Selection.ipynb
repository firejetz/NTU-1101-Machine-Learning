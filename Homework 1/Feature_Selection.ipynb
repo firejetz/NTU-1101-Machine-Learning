{
 "cells": [
  {
   "cell_type": "code",
   "execution_count": 1,
   "id": "826f34c5",
   "metadata": {},
   "outputs": [],
   "source": [
    "import pandas as pd\n",
    "import numpy as np"
   ]
  },
  {
   "cell_type": "code",
   "execution_count": 2,
   "id": "e35011aa",
   "metadata": {
    "scrolled": true
   },
   "outputs": [],
   "source": [
    "train = pd.read_csv(\"covid.train.csv\")"
   ]
  },
  {
   "cell_type": "code",
   "execution_count": 3,
   "id": "d794e3a4",
   "metadata": {},
   "outputs": [],
   "source": [
    "X = train.drop(columns = ['id', 'tested_positive.4'])"
   ]
  },
  {
   "cell_type": "code",
   "execution_count": 4,
   "id": "0952097a",
   "metadata": {},
   "outputs": [],
   "source": [
    "X = X.to_numpy()"
   ]
  },
  {
   "cell_type": "code",
   "execution_count": 5,
   "id": "63834bdb",
   "metadata": {},
   "outputs": [],
   "source": [
    "y = train[['tested_positive.4']]"
   ]
  },
  {
   "cell_type": "code",
   "execution_count": 6,
   "id": "73b64bb0",
   "metadata": {},
   "outputs": [],
   "source": [
    "y = y.values.ravel()"
   ]
  },
  {
   "cell_type": "code",
   "execution_count": 7,
   "id": "70c2ac79",
   "metadata": {},
   "outputs": [],
   "source": [
    "from sklearn.feature_selection import RFE\n",
    "from sklearn.svm import SVR\n",
    "estimator = SVR(kernel = \"linear\")\n",
    "selector = RFE(estimator, n_features_to_select = 10, step = 3)\n",
    "selector = selector.fit(X, y)"
   ]
  },
  {
   "cell_type": "code",
   "execution_count": 8,
   "id": "ded3184c",
   "metadata": {},
   "outputs": [
    {
     "name": "stdout",
     "output_type": "stream",
     "text": [
      "Column: 0, Selected False, Rank: 10.000\n",
      "Column: 1, Selected True, Rank: 1.000\n",
      "Column: 2, Selected False, Rank: 10.000\n",
      "Column: 3, Selected False, Rank: 30.000\n",
      "Column: 4, Selected False, Rank: 12.000\n",
      "Column: 5, Selected False, Rank: 31.000\n",
      "Column: 6, Selected False, Rank: 4.000\n",
      "Column: 7, Selected False, Rank: 16.000\n",
      "Column: 8, Selected False, Rank: 18.000\n",
      "Column: 9, Selected False, Rank: 27.000\n",
      "Column: 10, Selected False, Rank: 14.000\n",
      "Column: 11, Selected False, Rank: 17.000\n",
      "Column: 12, Selected True, Rank: 1.000\n",
      "Column: 13, Selected False, Rank: 6.000\n",
      "Column: 14, Selected False, Rank: 13.000\n",
      "Column: 15, Selected False, Rank: 32.000\n",
      "Column: 16, Selected False, Rank: 10.000\n",
      "Column: 17, Selected False, Rank: 9.000\n",
      "Column: 18, Selected False, Rank: 32.000\n",
      "Column: 19, Selected False, Rank: 7.000\n",
      "Column: 20, Selected False, Rank: 5.000\n",
      "Column: 21, Selected False, Rank: 3.000\n",
      "Column: 22, Selected False, Rank: 3.000\n",
      "Column: 23, Selected False, Rank: 15.000\n",
      "Column: 24, Selected False, Rank: 11.000\n",
      "Column: 25, Selected False, Rank: 3.000\n",
      "Column: 26, Selected False, Rank: 12.000\n",
      "Column: 27, Selected False, Rank: 8.000\n",
      "Column: 28, Selected False, Rank: 4.000\n",
      "Column: 29, Selected False, Rank: 13.000\n",
      "Column: 30, Selected False, Rank: 19.000\n",
      "Column: 31, Selected False, Rank: 8.000\n",
      "Column: 32, Selected False, Rank: 25.000\n",
      "Column: 33, Selected False, Rank: 17.000\n",
      "Column: 34, Selected False, Rank: 34.000\n",
      "Column: 35, Selected False, Rank: 12.000\n",
      "Column: 36, Selected False, Rank: 30.000\n",
      "Column: 37, Selected False, Rank: 4.000\n",
      "Column: 38, Selected False, Rank: 16.000\n",
      "Column: 39, Selected False, Rank: 36.000\n",
      "Column: 40, Selected False, Rank: 27.000\n",
      "Column: 41, Selected False, Rank: 29.000\n",
      "Column: 42, Selected False, Rank: 24.000\n",
      "Column: 43, Selected False, Rank: 23.000\n",
      "Column: 44, Selected False, Rank: 25.000\n",
      "Column: 45, Selected False, Rank: 20.000\n",
      "Column: 46, Selected False, Rank: 26.000\n",
      "Column: 47, Selected False, Rank: 19.000\n",
      "Column: 48, Selected False, Rank: 28.000\n",
      "Column: 49, Selected False, Rank: 26.000\n",
      "Column: 50, Selected False, Rank: 6.000\n",
      "Column: 51, Selected False, Rank: 19.000\n",
      "Column: 52, Selected False, Rank: 11.000\n",
      "Column: 53, Selected True, Rank: 1.000\n",
      "Column: 54, Selected False, Rank: 14.000\n",
      "Column: 55, Selected False, Rank: 11.000\n",
      "Column: 56, Selected False, Rank: 9.000\n",
      "Column: 57, Selected False, Rank: 21.000\n",
      "Column: 58, Selected False, Rank: 23.000\n",
      "Column: 59, Selected False, Rank: 22.000\n",
      "Column: 60, Selected False, Rank: 28.000\n",
      "Column: 61, Selected False, Rank: 18.000\n",
      "Column: 62, Selected False, Rank: 33.000\n",
      "Column: 63, Selected False, Rank: 18.000\n",
      "Column: 64, Selected False, Rank: 22.000\n",
      "Column: 65, Selected False, Rank: 21.000\n",
      "Column: 66, Selected False, Rank: 7.000\n",
      "Column: 67, Selected False, Rank: 20.000\n",
      "Column: 68, Selected False, Rank: 23.000\n",
      "Column: 69, Selected True, Rank: 1.000\n",
      "Column: 70, Selected False, Rank: 27.000\n",
      "Column: 71, Selected False, Rank: 21.000\n",
      "Column: 72, Selected False, Rank: 24.000\n",
      "Column: 73, Selected False, Rank: 36.000\n",
      "Column: 74, Selected False, Rank: 22.000\n",
      "Column: 75, Selected False, Rank: 31.000\n",
      "Column: 76, Selected False, Rank: 29.000\n",
      "Column: 77, Selected False, Rank: 37.000\n",
      "Column: 78, Selected False, Rank: 15.000\n",
      "Column: 79, Selected False, Rank: 32.000\n",
      "Column: 80, Selected False, Rank: 6.000\n",
      "Column: 81, Selected False, Rank: 35.000\n",
      "Column: 82, Selected False, Rank: 35.000\n",
      "Column: 83, Selected False, Rank: 33.000\n",
      "Column: 84, Selected False, Rank: 37.000\n",
      "Column: 85, Selected True, Rank: 1.000\n",
      "Column: 86, Selected True, Rank: 1.000\n",
      "Column: 87, Selected False, Rank: 2.000\n",
      "Column: 88, Selected False, Rank: 8.000\n",
      "Column: 89, Selected False, Rank: 17.000\n",
      "Column: 90, Selected False, Rank: 5.000\n",
      "Column: 91, Selected False, Rank: 24.000\n",
      "Column: 92, Selected False, Rank: 29.000\n",
      "Column: 93, Selected False, Rank: 35.000\n",
      "Column: 94, Selected False, Rank: 14.000\n",
      "Column: 95, Selected False, Rank: 31.000\n",
      "Column: 96, Selected False, Rank: 37.000\n",
      "Column: 97, Selected False, Rank: 34.000\n",
      "Column: 98, Selected False, Rank: 20.000\n",
      "Column: 99, Selected False, Rank: 26.000\n",
      "Column: 100, Selected True, Rank: 1.000\n",
      "Column: 101, Selected True, Rank: 1.000\n",
      "Column: 102, Selected True, Rank: 1.000\n",
      "Column: 103, Selected True, Rank: 1.000\n",
      "Column: 104, Selected False, Rank: 9.000\n",
      "Column: 105, Selected False, Rank: 16.000\n",
      "Column: 106, Selected False, Rank: 5.000\n",
      "Column: 107, Selected False, Rank: 28.000\n",
      "Column: 108, Selected False, Rank: 30.000\n",
      "Column: 109, Selected False, Rank: 36.000\n",
      "Column: 110, Selected False, Rank: 13.000\n",
      "Column: 111, Selected False, Rank: 33.000\n",
      "Column: 112, Selected False, Rank: 7.000\n",
      "Column: 113, Selected False, Rank: 34.000\n",
      "Column: 114, Selected False, Rank: 15.000\n",
      "Column: 115, Selected False, Rank: 25.000\n"
     ]
    }
   ],
   "source": [
    "for i in range(X.shape[1]):\n",
    "    print('Column: %d, Selected %s, Rank: %.3f' % (i, selector.support_[i], selector.ranking_[i]))"
   ]
  }
 ],
 "metadata": {
  "kernelspec": {
   "display_name": "Python 3 (ipykernel)",
   "language": "python",
   "name": "python3"
  },
  "language_info": {
   "codemirror_mode": {
    "name": "ipython",
    "version": 3
   },
   "file_extension": ".py",
   "mimetype": "text/x-python",
   "name": "python",
   "nbconvert_exporter": "python",
   "pygments_lexer": "ipython3",
   "version": "3.9.7"
  }
 },
 "nbformat": 4,
 "nbformat_minor": 5
}
